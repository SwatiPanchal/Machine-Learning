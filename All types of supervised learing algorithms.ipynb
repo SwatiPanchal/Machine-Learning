{
 "cells": [
  {
   "cell_type": "markdown",
   "metadata": {},
   "source": [
    "### Importing required libraries"
   ]
  },
  {
   "cell_type": "code",
   "execution_count": 1,
   "metadata": {
    "_cell_guid": "b1076dfc-b9ad-4769-8c92-a6c4dae69d19",
    "_uuid": "8f2839f25d086af736a60e9eeb907d3b93b6e0e5",
    "execution": {
     "iopub.execute_input": "2021-05-17T05:21:12.149722Z",
     "iopub.status.busy": "2021-05-17T05:21:12.147998Z",
     "iopub.status.idle": "2021-05-17T05:21:12.163442Z",
     "shell.execute_reply": "2021-05-17T05:21:12.162765Z"
    },
    "papermill": {
     "duration": 0.041043,
     "end_time": "2021-05-17T05:21:12.163608",
     "exception": false,
     "start_time": "2021-05-17T05:21:12.122565",
     "status": "completed"
    },
    "tags": []
   },
   "outputs": [],
   "source": [
    "import numpy as np \n",
    "import pandas as pd "
   ]
  },
  {
   "cell_type": "markdown",
   "metadata": {
    "papermill": {
     "duration": 0.020275,
     "end_time": "2021-05-17T05:21:12.205442",
     "exception": false,
     "start_time": "2021-05-17T05:21:12.185167",
     "status": "completed"
    },
    "tags": []
   },
   "source": [
    "### Loading the Dataset"
   ]
  },
  {
   "cell_type": "code",
   "execution_count": 2,
   "metadata": {
    "execution": {
     "iopub.execute_input": "2021-05-17T05:21:12.251216Z",
     "iopub.status.busy": "2021-05-17T05:21:12.250541Z",
     "iopub.status.idle": "2021-05-17T05:21:12.264099Z",
     "shell.execute_reply": "2021-05-17T05:21:12.262787Z"
    },
    "papermill": {
     "duration": 0.038545,
     "end_time": "2021-05-17T05:21:12.264256",
     "exception": false,
     "start_time": "2021-05-17T05:21:12.225711",
     "status": "completed"
    },
    "tags": []
   },
   "outputs": [],
   "source": [
    "heart_data = pd.read_csv(\"../input/heart-failure-records/heart_failure_clinical_records_dataset.csv\")"
   ]
  },
  {
   "cell_type": "code",
   "execution_count": 3,
   "metadata": {
    "execution": {
     "iopub.execute_input": "2021-05-17T05:21:12.310609Z",
     "iopub.status.busy": "2021-05-17T05:21:12.309648Z",
     "iopub.status.idle": "2021-05-17T05:21:12.343716Z",
     "shell.execute_reply": "2021-05-17T05:21:12.343217Z"
    },
    "papermill": {
     "duration": 0.058944,
     "end_time": "2021-05-17T05:21:12.343869",
     "exception": false,
     "start_time": "2021-05-17T05:21:12.284925",
     "status": "completed"
    },
    "tags": []
   },
   "outputs": [
    {
     "data": {
      "text/html": [
       "<div>\n",
       "<style scoped>\n",
       "    .dataframe tbody tr th:only-of-type {\n",
       "        vertical-align: middle;\n",
       "    }\n",
       "\n",
       "    .dataframe tbody tr th {\n",
       "        vertical-align: top;\n",
       "    }\n",
       "\n",
       "    .dataframe thead th {\n",
       "        text-align: right;\n",
       "    }\n",
       "</style>\n",
       "<table border=\"1\" class=\"dataframe\">\n",
       "  <thead>\n",
       "    <tr style=\"text-align: right;\">\n",
       "      <th></th>\n",
       "      <th>age</th>\n",
       "      <th>anaemia</th>\n",
       "      <th>creatinine_phosphokinase</th>\n",
       "      <th>diabetes</th>\n",
       "      <th>ejection_fraction</th>\n",
       "      <th>high_blood_pressure</th>\n",
       "      <th>platelets</th>\n",
       "      <th>serum_creatinine</th>\n",
       "      <th>serum_sodium</th>\n",
       "      <th>sex</th>\n",
       "      <th>smoking</th>\n",
       "      <th>time</th>\n",
       "      <th>DEATH_EVENT</th>\n",
       "    </tr>\n",
       "  </thead>\n",
       "  <tbody>\n",
       "    <tr>\n",
       "      <th>0</th>\n",
       "      <td>75.0</td>\n",
       "      <td>0</td>\n",
       "      <td>582</td>\n",
       "      <td>0</td>\n",
       "      <td>20</td>\n",
       "      <td>1</td>\n",
       "      <td>265000.00</td>\n",
       "      <td>1.9</td>\n",
       "      <td>130</td>\n",
       "      <td>1</td>\n",
       "      <td>0</td>\n",
       "      <td>4</td>\n",
       "      <td>1</td>\n",
       "    </tr>\n",
       "    <tr>\n",
       "      <th>1</th>\n",
       "      <td>55.0</td>\n",
       "      <td>0</td>\n",
       "      <td>7861</td>\n",
       "      <td>0</td>\n",
       "      <td>38</td>\n",
       "      <td>0</td>\n",
       "      <td>263358.03</td>\n",
       "      <td>1.1</td>\n",
       "      <td>136</td>\n",
       "      <td>1</td>\n",
       "      <td>0</td>\n",
       "      <td>6</td>\n",
       "      <td>1</td>\n",
       "    </tr>\n",
       "    <tr>\n",
       "      <th>2</th>\n",
       "      <td>65.0</td>\n",
       "      <td>0</td>\n",
       "      <td>146</td>\n",
       "      <td>0</td>\n",
       "      <td>20</td>\n",
       "      <td>0</td>\n",
       "      <td>162000.00</td>\n",
       "      <td>1.3</td>\n",
       "      <td>129</td>\n",
       "      <td>1</td>\n",
       "      <td>1</td>\n",
       "      <td>7</td>\n",
       "      <td>1</td>\n",
       "    </tr>\n",
       "    <tr>\n",
       "      <th>3</th>\n",
       "      <td>50.0</td>\n",
       "      <td>1</td>\n",
       "      <td>111</td>\n",
       "      <td>0</td>\n",
       "      <td>20</td>\n",
       "      <td>0</td>\n",
       "      <td>210000.00</td>\n",
       "      <td>1.9</td>\n",
       "      <td>137</td>\n",
       "      <td>1</td>\n",
       "      <td>0</td>\n",
       "      <td>7</td>\n",
       "      <td>1</td>\n",
       "    </tr>\n",
       "    <tr>\n",
       "      <th>4</th>\n",
       "      <td>65.0</td>\n",
       "      <td>1</td>\n",
       "      <td>160</td>\n",
       "      <td>1</td>\n",
       "      <td>20</td>\n",
       "      <td>0</td>\n",
       "      <td>327000.00</td>\n",
       "      <td>2.7</td>\n",
       "      <td>116</td>\n",
       "      <td>0</td>\n",
       "      <td>0</td>\n",
       "      <td>8</td>\n",
       "      <td>1</td>\n",
       "    </tr>\n",
       "  </tbody>\n",
       "</table>\n",
       "</div>"
      ],
      "text/plain": [
       "    age  anaemia  creatinine_phosphokinase  diabetes  ejection_fraction  \\\n",
       "0  75.0        0                       582         0                 20   \n",
       "1  55.0        0                      7861         0                 38   \n",
       "2  65.0        0                       146         0                 20   \n",
       "3  50.0        1                       111         0                 20   \n",
       "4  65.0        1                       160         1                 20   \n",
       "\n",
       "   high_blood_pressure  platelets  serum_creatinine  serum_sodium  sex  \\\n",
       "0                    1  265000.00               1.9           130    1   \n",
       "1                    0  263358.03               1.1           136    1   \n",
       "2                    0  162000.00               1.3           129    1   \n",
       "3                    0  210000.00               1.9           137    1   \n",
       "4                    0  327000.00               2.7           116    0   \n",
       "\n",
       "   smoking  time  DEATH_EVENT  \n",
       "0        0     4            1  \n",
       "1        0     6            1  \n",
       "2        1     7            1  \n",
       "3        0     7            1  \n",
       "4        0     8            1  "
      ]
     },
     "execution_count": 3,
     "metadata": {},
     "output_type": "execute_result"
    }
   ],
   "source": [
    "heart_data.head()"
   ]
  },
  {
   "cell_type": "code",
   "execution_count": 4,
   "metadata": {
    "execution": {
     "iopub.execute_input": "2021-05-17T05:21:12.394343Z",
     "iopub.status.busy": "2021-05-17T05:21:12.393681Z",
     "iopub.status.idle": "2021-05-17T05:21:12.396549Z",
     "shell.execute_reply": "2021-05-17T05:21:12.397153Z"
    },
    "papermill": {
     "duration": 0.032092,
     "end_time": "2021-05-17T05:21:12.397329",
     "exception": false,
     "start_time": "2021-05-17T05:21:12.365237",
     "status": "completed"
    },
    "tags": []
   },
   "outputs": [
    {
     "data": {
      "text/plain": [
       "age                         0\n",
       "anaemia                     0\n",
       "creatinine_phosphokinase    0\n",
       "diabetes                    0\n",
       "ejection_fraction           0\n",
       "high_blood_pressure         0\n",
       "platelets                   0\n",
       "serum_creatinine            0\n",
       "serum_sodium                0\n",
       "sex                         0\n",
       "smoking                     0\n",
       "time                        0\n",
       "DEATH_EVENT                 0\n",
       "dtype: int64"
      ]
     },
     "execution_count": 4,
     "metadata": {},
     "output_type": "execute_result"
    }
   ],
   "source": [
    "heart_data.isnull().sum()"
   ]
  },
  {
   "cell_type": "code",
   "execution_count": 5,
   "metadata": {
    "execution": {
     "iopub.execute_input": "2021-05-17T05:21:12.443612Z",
     "iopub.status.busy": "2021-05-17T05:21:12.443046Z",
     "iopub.status.idle": "2021-05-17T05:21:12.460375Z",
     "shell.execute_reply": "2021-05-17T05:21:12.460883Z"
    },
    "papermill": {
     "duration": 0.041781,
     "end_time": "2021-05-17T05:21:12.461047",
     "exception": false,
     "start_time": "2021-05-17T05:21:12.419266",
     "status": "completed"
    },
    "tags": []
   },
   "outputs": [
    {
     "name": "stdout",
     "output_type": "stream",
     "text": [
      "<class 'pandas.core.frame.DataFrame'>\n",
      "RangeIndex: 299 entries, 0 to 298\n",
      "Data columns (total 13 columns):\n",
      " #   Column                    Non-Null Count  Dtype  \n",
      "---  ------                    --------------  -----  \n",
      " 0   age                       299 non-null    float64\n",
      " 1   anaemia                   299 non-null    int64  \n",
      " 2   creatinine_phosphokinase  299 non-null    int64  \n",
      " 3   diabetes                  299 non-null    int64  \n",
      " 4   ejection_fraction         299 non-null    int64  \n",
      " 5   high_blood_pressure       299 non-null    int64  \n",
      " 6   platelets                 299 non-null    float64\n",
      " 7   serum_creatinine          299 non-null    float64\n",
      " 8   serum_sodium              299 non-null    int64  \n",
      " 9   sex                       299 non-null    int64  \n",
      " 10  smoking                   299 non-null    int64  \n",
      " 11  time                      299 non-null    int64  \n",
      " 12  DEATH_EVENT               299 non-null    int64  \n",
      "dtypes: float64(3), int64(10)\n",
      "memory usage: 30.5 KB\n"
     ]
    }
   ],
   "source": [
    "heart_data.info()"
   ]
  },
  {
   "cell_type": "code",
   "execution_count": 6,
   "metadata": {
    "execution": {
     "iopub.execute_input": "2021-05-17T05:21:12.508351Z",
     "iopub.status.busy": "2021-05-17T05:21:12.507739Z",
     "iopub.status.idle": "2021-05-17T05:21:12.513320Z",
     "shell.execute_reply": "2021-05-17T05:21:12.512866Z"
    },
    "papermill": {
     "duration": 0.030057,
     "end_time": "2021-05-17T05:21:12.513457",
     "exception": false,
     "start_time": "2021-05-17T05:21:12.483400",
     "status": "completed"
    },
    "tags": []
   },
   "outputs": [
    {
     "data": {
      "text/plain": [
       "(299, 13)"
      ]
     },
     "execution_count": 6,
     "metadata": {},
     "output_type": "execute_result"
    }
   ],
   "source": [
    "heart_data.shape"
   ]
  },
  {
   "cell_type": "markdown",
   "metadata": {},
   "source": [
    "### Taking the target data in y and training data in X"
   ]
  },
  {
   "cell_type": "code",
   "execution_count": 7,
   "metadata": {
    "execution": {
     "iopub.execute_input": "2021-05-17T05:21:12.565024Z",
     "iopub.status.busy": "2021-05-17T05:21:12.564341Z",
     "iopub.status.idle": "2021-05-17T05:21:12.567635Z",
     "shell.execute_reply": "2021-05-17T05:21:12.567137Z"
    },
    "papermill": {
     "duration": 0.031793,
     "end_time": "2021-05-17T05:21:12.567769",
     "exception": false,
     "start_time": "2021-05-17T05:21:12.535976",
     "status": "completed"
    },
    "tags": []
   },
   "outputs": [],
   "source": [
    "y = heart_data['DEATH_EVENT'].values\n",
    "X = heart_data.copy()\n",
    "X.drop(['DEATH_EVENT'],axis=1,inplace=True)"
   ]
  },
  {
   "cell_type": "markdown",
   "metadata": {},
   "source": [
    "#### As the data is already noise free and does not contain any missing values, we hop towards Feature Scaling"
   ]
  },
  {
   "cell_type": "markdown",
   "metadata": {
    "papermill": {
     "duration": 0.021992,
     "end_time": "2021-05-17T05:21:12.612350",
     "exception": false,
     "start_time": "2021-05-17T05:21:12.590358",
     "status": "completed"
    },
    "tags": []
   },
   "source": [
    "### Feature Selection (method = Information Gain)"
   ]
  },
  {
   "cell_type": "code",
   "execution_count": 8,
   "metadata": {
    "execution": {
     "iopub.execute_input": "2021-05-17T05:21:12.662567Z",
     "iopub.status.busy": "2021-05-17T05:21:12.661902Z",
     "iopub.status.idle": "2021-05-17T05:21:13.861457Z",
     "shell.execute_reply": "2021-05-17T05:21:13.860859Z"
    },
    "papermill": {
     "duration": 1.226886,
     "end_time": "2021-05-17T05:21:13.861584",
     "exception": false,
     "start_time": "2021-05-17T05:21:12.634698",
     "status": "completed"
    },
    "tags": []
   },
   "outputs": [
    {
     "data": {
      "text/plain": [
       "time                        0.245235\n",
       "serum_creatinine            0.071753\n",
       "high_blood_pressure         0.052395\n",
       "ejection_fraction           0.039677\n",
       "creatinine_phosphokinase    0.038252\n",
       "anaemia                     0.030487\n",
       "serum_sodium                0.025787\n",
       "age                         0.024342\n",
       "sex                         0.020091\n",
       "smoking                     0.004897\n",
       "diabetes                    0.000000\n",
       "platelets                   0.000000\n",
       "dtype: float64"
      ]
     },
     "execution_count": 8,
     "metadata": {},
     "output_type": "execute_result"
    }
   ],
   "source": [
    "from sklearn.feature_selection import mutual_info_classif\n",
    "\n",
    "mutual_info = mutual_info_classif(X,y)\n",
    "mutual_data = pd.Series(mutual_info, index = X.columns)\n",
    "mutual_data.sort_values(ascending = False)"
   ]
  },
  {
   "cell_type": "code",
   "execution_count": 9,
   "metadata": {
    "execution": {
     "iopub.execute_input": "2021-05-17T05:21:13.913251Z",
     "iopub.status.busy": "2021-05-17T05:21:13.912639Z",
     "iopub.status.idle": "2021-05-17T05:21:13.915909Z",
     "shell.execute_reply": "2021-05-17T05:21:13.916452Z"
    },
    "papermill": {
     "duration": 0.031959,
     "end_time": "2021-05-17T05:21:13.916602",
     "exception": false,
     "start_time": "2021-05-17T05:21:13.884643",
     "status": "completed"
    },
    "tags": []
   },
   "outputs": [
    {
     "data": {
      "text/plain": [
       "Index(['time', 'serum_creatinine', 'high_blood_pressure', 'ejection_fraction',\n",
       "       'creatinine_phosphokinase', 'anaemia', 'serum_sodium', 'age', 'sex',\n",
       "       'smoking', 'diabetes', 'platelets'],\n",
       "      dtype='object')"
      ]
     },
     "execution_count": 9,
     "metadata": {},
     "output_type": "execute_result"
    }
   ],
   "source": [
    "index = mutual_data.sort_values(ascending=False).index\n",
    "index"
   ]
  },
  {
   "cell_type": "markdown",
   "metadata": {
    "papermill": {
     "duration": 0.023376,
     "end_time": "2021-05-17T05:21:13.963557",
     "exception": false,
     "start_time": "2021-05-17T05:21:13.940181",
     "status": "completed"
    },
    "tags": []
   },
   "source": [
    "### Dropping the non required features"
   ]
  },
  {
   "cell_type": "markdown",
   "metadata": {},
   "source": [
    "#### As per the score of information gain we are taking only top 6 columns and the rest are dropped"
   ]
  },
  {
   "cell_type": "code",
   "execution_count": 10,
   "metadata": {
    "execution": {
     "iopub.execute_input": "2021-05-17T05:21:14.015028Z",
     "iopub.status.busy": "2021-05-17T05:21:14.014398Z",
     "iopub.status.idle": "2021-05-17T05:21:14.021277Z",
     "shell.execute_reply": "2021-05-17T05:21:14.020750Z"
    },
    "papermill": {
     "duration": 0.033762,
     "end_time": "2021-05-17T05:21:14.021415",
     "exception": false,
     "start_time": "2021-05-17T05:21:13.987653",
     "status": "completed"
    },
    "tags": []
   },
   "outputs": [],
   "source": [
    "X.drop(index[6:],axis=1,inplace=True)"
   ]
  },
  {
   "cell_type": "code",
   "execution_count": 11,
   "metadata": {
    "execution": {
     "iopub.execute_input": "2021-05-17T05:21:14.085341Z",
     "iopub.status.busy": "2021-05-17T05:21:14.084667Z",
     "iopub.status.idle": "2021-05-17T05:21:14.088444Z",
     "shell.execute_reply": "2021-05-17T05:21:14.089037Z"
    },
    "papermill": {
     "duration": 0.043639,
     "end_time": "2021-05-17T05:21:14.089205",
     "exception": false,
     "start_time": "2021-05-17T05:21:14.045566",
     "status": "completed"
    },
    "tags": []
   },
   "outputs": [
    {
     "data": {
      "text/html": [
       "<div>\n",
       "<style scoped>\n",
       "    .dataframe tbody tr th:only-of-type {\n",
       "        vertical-align: middle;\n",
       "    }\n",
       "\n",
       "    .dataframe tbody tr th {\n",
       "        vertical-align: top;\n",
       "    }\n",
       "\n",
       "    .dataframe thead th {\n",
       "        text-align: right;\n",
       "    }\n",
       "</style>\n",
       "<table border=\"1\" class=\"dataframe\">\n",
       "  <thead>\n",
       "    <tr style=\"text-align: right;\">\n",
       "      <th></th>\n",
       "      <th>anaemia</th>\n",
       "      <th>creatinine_phosphokinase</th>\n",
       "      <th>ejection_fraction</th>\n",
       "      <th>high_blood_pressure</th>\n",
       "      <th>serum_creatinine</th>\n",
       "      <th>time</th>\n",
       "    </tr>\n",
       "  </thead>\n",
       "  <tbody>\n",
       "    <tr>\n",
       "      <th>0</th>\n",
       "      <td>0</td>\n",
       "      <td>582</td>\n",
       "      <td>20</td>\n",
       "      <td>1</td>\n",
       "      <td>1.9</td>\n",
       "      <td>4</td>\n",
       "    </tr>\n",
       "    <tr>\n",
       "      <th>1</th>\n",
       "      <td>0</td>\n",
       "      <td>7861</td>\n",
       "      <td>38</td>\n",
       "      <td>0</td>\n",
       "      <td>1.1</td>\n",
       "      <td>6</td>\n",
       "    </tr>\n",
       "    <tr>\n",
       "      <th>2</th>\n",
       "      <td>0</td>\n",
       "      <td>146</td>\n",
       "      <td>20</td>\n",
       "      <td>0</td>\n",
       "      <td>1.3</td>\n",
       "      <td>7</td>\n",
       "    </tr>\n",
       "    <tr>\n",
       "      <th>3</th>\n",
       "      <td>1</td>\n",
       "      <td>111</td>\n",
       "      <td>20</td>\n",
       "      <td>0</td>\n",
       "      <td>1.9</td>\n",
       "      <td>7</td>\n",
       "    </tr>\n",
       "    <tr>\n",
       "      <th>4</th>\n",
       "      <td>1</td>\n",
       "      <td>160</td>\n",
       "      <td>20</td>\n",
       "      <td>0</td>\n",
       "      <td>2.7</td>\n",
       "      <td>8</td>\n",
       "    </tr>\n",
       "    <tr>\n",
       "      <th>...</th>\n",
       "      <td>...</td>\n",
       "      <td>...</td>\n",
       "      <td>...</td>\n",
       "      <td>...</td>\n",
       "      <td>...</td>\n",
       "      <td>...</td>\n",
       "    </tr>\n",
       "    <tr>\n",
       "      <th>294</th>\n",
       "      <td>0</td>\n",
       "      <td>61</td>\n",
       "      <td>38</td>\n",
       "      <td>1</td>\n",
       "      <td>1.1</td>\n",
       "      <td>270</td>\n",
       "    </tr>\n",
       "    <tr>\n",
       "      <th>295</th>\n",
       "      <td>0</td>\n",
       "      <td>1820</td>\n",
       "      <td>38</td>\n",
       "      <td>0</td>\n",
       "      <td>1.2</td>\n",
       "      <td>271</td>\n",
       "    </tr>\n",
       "    <tr>\n",
       "      <th>296</th>\n",
       "      <td>0</td>\n",
       "      <td>2060</td>\n",
       "      <td>60</td>\n",
       "      <td>0</td>\n",
       "      <td>0.8</td>\n",
       "      <td>278</td>\n",
       "    </tr>\n",
       "    <tr>\n",
       "      <th>297</th>\n",
       "      <td>0</td>\n",
       "      <td>2413</td>\n",
       "      <td>38</td>\n",
       "      <td>0</td>\n",
       "      <td>1.4</td>\n",
       "      <td>280</td>\n",
       "    </tr>\n",
       "    <tr>\n",
       "      <th>298</th>\n",
       "      <td>0</td>\n",
       "      <td>196</td>\n",
       "      <td>45</td>\n",
       "      <td>0</td>\n",
       "      <td>1.6</td>\n",
       "      <td>285</td>\n",
       "    </tr>\n",
       "  </tbody>\n",
       "</table>\n",
       "<p>299 rows × 6 columns</p>\n",
       "</div>"
      ],
      "text/plain": [
       "     anaemia  creatinine_phosphokinase  ejection_fraction  \\\n",
       "0          0                       582                 20   \n",
       "1          0                      7861                 38   \n",
       "2          0                       146                 20   \n",
       "3          1                       111                 20   \n",
       "4          1                       160                 20   \n",
       "..       ...                       ...                ...   \n",
       "294        0                        61                 38   \n",
       "295        0                      1820                 38   \n",
       "296        0                      2060                 60   \n",
       "297        0                      2413                 38   \n",
       "298        0                       196                 45   \n",
       "\n",
       "     high_blood_pressure  serum_creatinine  time  \n",
       "0                      1               1.9     4  \n",
       "1                      0               1.1     6  \n",
       "2                      0               1.3     7  \n",
       "3                      0               1.9     7  \n",
       "4                      0               2.7     8  \n",
       "..                   ...               ...   ...  \n",
       "294                    1               1.1   270  \n",
       "295                    0               1.2   271  \n",
       "296                    0               0.8   278  \n",
       "297                    0               1.4   280  \n",
       "298                    0               1.6   285  \n",
       "\n",
       "[299 rows x 6 columns]"
      ]
     },
     "execution_count": 11,
     "metadata": {},
     "output_type": "execute_result"
    }
   ],
   "source": [
    "X"
   ]
  },
  {
   "cell_type": "code",
   "execution_count": 12,
   "metadata": {
    "execution": {
     "iopub.execute_input": "2021-05-17T05:21:14.142602Z",
     "iopub.status.busy": "2021-05-17T05:21:14.141688Z",
     "iopub.status.idle": "2021-05-17T05:21:14.147693Z",
     "shell.execute_reply": "2021-05-17T05:21:14.148203Z"
    },
    "papermill": {
     "duration": 0.033987,
     "end_time": "2021-05-17T05:21:14.148370",
     "exception": false,
     "start_time": "2021-05-17T05:21:14.114383",
     "status": "completed"
    },
    "tags": []
   },
   "outputs": [
    {
     "data": {
      "text/plain": [
       "array([1, 1, 1, 1, 1, 1, 1, 1, 1, 1, 1, 1, 1, 1, 0, 1, 1, 1, 1, 1, 0, 1,\n",
       "       1, 0, 1, 1, 1, 1, 1, 1, 1, 1, 1, 0, 1, 1, 1, 1, 0, 1, 1, 1, 1, 0,\n",
       "       1, 1, 1, 1, 1, 1, 1, 1, 1, 1, 1, 1, 0, 0, 1, 1, 1, 1, 0, 1, 0, 1,\n",
       "       1, 1, 1, 1, 0, 0, 1, 0, 1, 1, 0, 0, 0, 0, 0, 0, 1, 0, 1, 0, 0, 0,\n",
       "       0, 0, 0, 0, 0, 1, 0, 0, 0, 0, 0, 0, 0, 0, 0, 0, 0, 1, 0, 0, 0, 0,\n",
       "       1, 0, 0, 1, 0, 0, 0, 0, 0, 1, 0, 0, 0, 0, 1, 0, 1, 0, 0, 0, 0, 0,\n",
       "       0, 0, 0, 0, 0, 0, 0, 0, 1, 0, 0, 0, 1, 0, 0, 0, 1, 0, 1, 0, 0, 0,\n",
       "       0, 0, 0, 0, 0, 0, 0, 0, 0, 1, 1, 1, 0, 1, 0, 0, 0, 0, 0, 0, 0, 0,\n",
       "       0, 0, 0, 0, 0, 1, 1, 1, 1, 1, 1, 1, 0, 0, 0, 0, 0, 0, 1, 1, 0, 0,\n",
       "       0, 0, 0, 0, 0, 0, 0, 0, 0, 0, 0, 0, 0, 0, 0, 1, 0, 0, 0, 1, 0, 0,\n",
       "       1, 0, 0, 0, 0, 0, 0, 0, 0, 0, 1, 0, 0, 0, 0, 0, 0, 0, 0, 0, 0, 0,\n",
       "       0, 0, 0, 0, 1, 0, 0, 0, 0, 0, 0, 0, 0, 0, 0, 0, 0, 0, 0, 0, 1, 0,\n",
       "       0, 0, 1, 0, 0, 0, 0, 0, 0, 0, 0, 0, 0, 0, 0, 0, 0, 0, 0, 0, 0, 0,\n",
       "       0, 0, 0, 0, 0, 0, 0, 0, 0, 0, 0, 0, 0])"
      ]
     },
     "execution_count": 12,
     "metadata": {},
     "output_type": "execute_result"
    }
   ],
   "source": [
    "y"
   ]
  },
  {
   "cell_type": "markdown",
   "metadata": {
    "papermill": {
     "duration": 0.024307,
     "end_time": "2021-05-17T05:21:14.197160",
     "exception": false,
     "start_time": "2021-05-17T05:21:14.172853",
     "status": "completed"
    },
    "tags": []
   },
   "source": [
    "### Splitting the data into train-test split"
   ]
  },
  {
   "cell_type": "code",
   "execution_count": 13,
   "metadata": {
    "execution": {
     "iopub.execute_input": "2021-05-17T05:21:14.251403Z",
     "iopub.status.busy": "2021-05-17T05:21:14.250453Z",
     "iopub.status.idle": "2021-05-17T05:21:14.256489Z",
     "shell.execute_reply": "2021-05-17T05:21:14.256932Z"
    },
    "papermill": {
     "duration": 0.034916,
     "end_time": "2021-05-17T05:21:14.257095",
     "exception": false,
     "start_time": "2021-05-17T05:21:14.222179",
     "status": "completed"
    },
    "tags": []
   },
   "outputs": [],
   "source": [
    "from sklearn.model_selection import train_test_split\n",
    "\n",
    "Xtrain, Xtest, ytrain, ytest = train_test_split(X,y,test_size=0.2,random_state=68)"
   ]
  },
  {
   "cell_type": "markdown",
   "metadata": {},
   "source": [
    "#### Training on different models to see the accuracy"
   ]
  },
  {
   "cell_type": "markdown",
   "metadata": {
    "papermill": {
     "duration": 0.024713,
     "end_time": "2021-05-17T05:21:14.306766",
     "exception": false,
     "start_time": "2021-05-17T05:21:14.282053",
     "status": "completed"
    },
    "tags": []
   },
   "source": [
    "### Logistic Regression"
   ]
  },
  {
   "cell_type": "code",
   "execution_count": 14,
   "metadata": {
    "execution": {
     "iopub.execute_input": "2021-05-17T05:21:14.367268Z",
     "iopub.status.busy": "2021-05-17T05:21:14.366269Z",
     "iopub.status.idle": "2021-05-17T05:21:14.405428Z",
     "shell.execute_reply": "2021-05-17T05:21:14.405920Z"
    },
    "papermill": {
     "duration": 0.073869,
     "end_time": "2021-05-17T05:21:14.406080",
     "exception": false,
     "start_time": "2021-05-17T05:21:14.332211",
     "status": "completed"
    },
    "tags": []
   },
   "outputs": [
    {
     "name": "stderr",
     "output_type": "stream",
     "text": [
      "/opt/conda/lib/python3.7/site-packages/sklearn/linear_model/_logistic.py:765: ConvergenceWarning: lbfgs failed to converge (status=1):\n",
      "STOP: TOTAL NO. of ITERATIONS REACHED LIMIT.\n",
      "\n",
      "Increase the number of iterations (max_iter) or scale the data as shown in:\n",
      "    https://scikit-learn.org/stable/modules/preprocessing.html\n",
      "Please also refer to the documentation for alternative solver options:\n",
      "    https://scikit-learn.org/stable/modules/linear_model.html#logistic-regression\n",
      "  extra_warning_msg=_LOGISTIC_SOLVER_CONVERGENCE_MSG)\n"
     ]
    },
    {
     "data": {
      "text/plain": [
       "LogisticRegression()"
      ]
     },
     "execution_count": 14,
     "metadata": {},
     "output_type": "execute_result"
    }
   ],
   "source": [
    "from sklearn.linear_model import LogisticRegression\n",
    "\n",
    "logistic = LogisticRegression()\n",
    "logistic.fit(Xtrain,ytrain)"
   ]
  },
  {
   "cell_type": "markdown",
   "metadata": {
    "papermill": {
     "duration": 0.025412,
     "end_time": "2021-05-17T05:21:14.457113",
     "exception": false,
     "start_time": "2021-05-17T05:21:14.431701",
     "status": "completed"
    },
    "tags": []
   },
   "source": [
    "### K-Nearest Neighbour"
   ]
  },
  {
   "cell_type": "code",
   "execution_count": 15,
   "metadata": {
    "execution": {
     "iopub.execute_input": "2021-05-17T05:21:14.517498Z",
     "iopub.status.busy": "2021-05-17T05:21:14.516580Z",
     "iopub.status.idle": "2021-05-17T05:21:14.520273Z",
     "shell.execute_reply": "2021-05-17T05:21:14.520728Z"
    },
    "papermill": {
     "duration": 0.038257,
     "end_time": "2021-05-17T05:21:14.520903",
     "exception": false,
     "start_time": "2021-05-17T05:21:14.482646",
     "status": "completed"
    },
    "tags": []
   },
   "outputs": [
    {
     "data": {
      "text/plain": [
       "KNeighborsClassifier()"
      ]
     },
     "execution_count": 15,
     "metadata": {},
     "output_type": "execute_result"
    }
   ],
   "source": [
    "from sklearn.neighbors import KNeighborsClassifier\n",
    "\n",
    "knn = KNeighborsClassifier()\n",
    "knn.fit(Xtrain,ytrain)"
   ]
  },
  {
   "cell_type": "markdown",
   "metadata": {
    "papermill": {
     "duration": 0.025946,
     "end_time": "2021-05-17T05:21:14.572985",
     "exception": false,
     "start_time": "2021-05-17T05:21:14.547039",
     "status": "completed"
    },
    "tags": []
   },
   "source": [
    "### Naive Bayes"
   ]
  },
  {
   "cell_type": "code",
   "execution_count": 16,
   "metadata": {
    "execution": {
     "iopub.execute_input": "2021-05-17T05:21:14.629073Z",
     "iopub.status.busy": "2021-05-17T05:21:14.628125Z",
     "iopub.status.idle": "2021-05-17T05:21:14.642246Z",
     "shell.execute_reply": "2021-05-17T05:21:14.641335Z"
    },
    "papermill": {
     "duration": 0.04325,
     "end_time": "2021-05-17T05:21:14.642428",
     "exception": false,
     "start_time": "2021-05-17T05:21:14.599178",
     "status": "completed"
    },
    "tags": []
   },
   "outputs": [
    {
     "data": {
      "text/plain": [
       "GaussianNB()"
      ]
     },
     "execution_count": 16,
     "metadata": {},
     "output_type": "execute_result"
    }
   ],
   "source": [
    "from sklearn.naive_bayes import GaussianNB\n",
    "\n",
    "naive_bayes = GaussianNB()\n",
    "naive_bayes.fit(Xtrain,ytrain)"
   ]
  },
  {
   "cell_type": "markdown",
   "metadata": {
    "papermill": {
     "duration": 0.026041,
     "end_time": "2021-05-17T05:21:14.695040",
     "exception": false,
     "start_time": "2021-05-17T05:21:14.668999",
     "status": "completed"
    },
    "tags": []
   },
   "source": [
    "### Decision Tree"
   ]
  },
  {
   "cell_type": "code",
   "execution_count": 17,
   "metadata": {
    "execution": {
     "iopub.execute_input": "2021-05-17T05:21:14.754166Z",
     "iopub.status.busy": "2021-05-17T05:21:14.753391Z",
     "iopub.status.idle": "2021-05-17T05:21:14.794216Z",
     "shell.execute_reply": "2021-05-17T05:21:14.794695Z"
    },
    "papermill": {
     "duration": 0.072744,
     "end_time": "2021-05-17T05:21:14.794897",
     "exception": false,
     "start_time": "2021-05-17T05:21:14.722153",
     "status": "completed"
    },
    "tags": []
   },
   "outputs": [
    {
     "data": {
      "text/plain": [
       "DecisionTreeClassifier()"
      ]
     },
     "execution_count": 17,
     "metadata": {},
     "output_type": "execute_result"
    }
   ],
   "source": [
    "from sklearn.tree import DecisionTreeClassifier\n",
    "\n",
    "decision_tree = DecisionTreeClassifier()\n",
    "decision_tree.fit(Xtrain,ytrain)"
   ]
  },
  {
   "cell_type": "markdown",
   "metadata": {
    "papermill": {
     "duration": 0.02679,
     "end_time": "2021-05-17T05:21:14.849216",
     "exception": false,
     "start_time": "2021-05-17T05:21:14.822426",
     "status": "completed"
    },
    "tags": []
   },
   "source": [
    "### Random Forest"
   ]
  },
  {
   "cell_type": "code",
   "execution_count": 18,
   "metadata": {
    "execution": {
     "iopub.execute_input": "2021-05-17T05:21:14.908379Z",
     "iopub.status.busy": "2021-05-17T05:21:14.907381Z",
     "iopub.status.idle": "2021-05-17T05:21:15.135862Z",
     "shell.execute_reply": "2021-05-17T05:21:15.136296Z"
    },
    "papermill": {
     "duration": 0.25989,
     "end_time": "2021-05-17T05:21:15.136477",
     "exception": false,
     "start_time": "2021-05-17T05:21:14.876587",
     "status": "completed"
    },
    "tags": []
   },
   "outputs": [
    {
     "data": {
      "text/plain": [
       "RandomForestClassifier()"
      ]
     },
     "execution_count": 18,
     "metadata": {},
     "output_type": "execute_result"
    }
   ],
   "source": [
    "from sklearn.ensemble import RandomForestClassifier\n",
    "\n",
    "random_forest = RandomForestClassifier()\n",
    "random_forest.fit(Xtrain,ytrain)"
   ]
  },
  {
   "cell_type": "markdown",
   "metadata": {
    "papermill": {
     "duration": 0.02723,
     "end_time": "2021-05-17T05:21:15.191545",
     "exception": false,
     "start_time": "2021-05-17T05:21:15.164315",
     "status": "completed"
    },
    "tags": []
   },
   "source": [
    "### Support Vector Machine"
   ]
  },
  {
   "cell_type": "code",
   "execution_count": 19,
   "metadata": {
    "execution": {
     "iopub.execute_input": "2021-05-17T05:21:15.250798Z",
     "iopub.status.busy": "2021-05-17T05:21:15.249843Z",
     "iopub.status.idle": "2021-05-17T05:21:15.260723Z",
     "shell.execute_reply": "2021-05-17T05:21:15.261209Z"
    },
    "papermill": {
     "duration": 0.041943,
     "end_time": "2021-05-17T05:21:15.261365",
     "exception": false,
     "start_time": "2021-05-17T05:21:15.219422",
     "status": "completed"
    },
    "tags": []
   },
   "outputs": [
    {
     "data": {
      "text/plain": [
       "SVC()"
      ]
     },
     "execution_count": 19,
     "metadata": {},
     "output_type": "execute_result"
    }
   ],
   "source": [
    "from sklearn.svm import SVC\n",
    "\n",
    "svc = SVC()\n",
    "svc.fit(Xtrain,ytrain)\n"
   ]
  },
  {
   "cell_type": "markdown",
   "metadata": {},
   "source": [
    "### Creating a list of all the objects of models"
   ]
  },
  {
   "cell_type": "code",
   "execution_count": 20,
   "metadata": {
    "execution": {
     "iopub.execute_input": "2021-05-17T05:21:15.320845Z",
     "iopub.status.busy": "2021-05-17T05:21:15.319907Z",
     "iopub.status.idle": "2021-05-17T05:21:15.325118Z",
     "shell.execute_reply": "2021-05-17T05:21:15.324498Z"
    },
    "papermill": {
     "duration": 0.036329,
     "end_time": "2021-05-17T05:21:15.325261",
     "exception": false,
     "start_time": "2021-05-17T05:21:15.288932",
     "status": "completed"
    },
    "tags": []
   },
   "outputs": [],
   "source": [
    "models = [logistic,knn,naive_bayes,decision_tree,random_forest,svc]"
   ]
  },
  {
   "cell_type": "markdown",
   "metadata": {},
   "source": [
    "### Finally predicting the accuracy of all the trained models"
   ]
  },
  {
   "cell_type": "code",
   "execution_count": 21,
   "metadata": {
    "execution": {
     "iopub.execute_input": "2021-05-17T05:21:15.386069Z",
     "iopub.status.busy": "2021-05-17T05:21:15.385061Z",
     "iopub.status.idle": "2021-05-17T05:21:15.508429Z",
     "shell.execute_reply": "2021-05-17T05:21:15.508930Z"
    },
    "papermill": {
     "duration": 0.155134,
     "end_time": "2021-05-17T05:21:15.509178",
     "exception": false,
     "start_time": "2021-05-17T05:21:15.354044",
     "status": "completed"
    },
    "tags": []
   },
   "outputs": [
    {
     "name": "stdout",
     "output_type": "stream",
     "text": [
      "\n",
      " ******************LogisticRegression()***************** \n",
      "\n",
      "Training Accuracy Score =  0.8410041841004184\n",
      "Testing Accuracy Score =  0.8666666666666667\n",
      "\n",
      "Confusion Metrix\n",
      " [[41  4]\n",
      " [ 4 11]]\n",
      "\n",
      "-----------------Classification Report----------------- \n",
      "\n",
      "               precision    recall  f1-score   support\n",
      "\n",
      "           0       0.91      0.91      0.91        45\n",
      "           1       0.73      0.73      0.73        15\n",
      "\n",
      "    accuracy                           0.87        60\n",
      "   macro avg       0.82      0.82      0.82        60\n",
      "weighted avg       0.87      0.87      0.87        60\n",
      " \n",
      "\n",
      "\n",
      "\n",
      " *****************KNeighborsClassifier()**************** \n",
      "\n",
      "Training Accuracy Score =  0.8326359832635983\n",
      "Testing Accuracy Score =  0.8333333333333334\n",
      "\n",
      "Confusion Metrix\n",
      " [[41  4]\n",
      " [ 6  9]]\n",
      "\n",
      "-----------------Classification Report----------------- \n",
      "\n",
      "               precision    recall  f1-score   support\n",
      "\n",
      "           0       0.87      0.91      0.89        45\n",
      "           1       0.69      0.60      0.64        15\n",
      "\n",
      "    accuracy                           0.83        60\n",
      "   macro avg       0.78      0.76      0.77        60\n",
      "weighted avg       0.83      0.83      0.83        60\n",
      " \n",
      "\n",
      "\n",
      "\n",
      " **********************GaussianNB()********************* \n",
      "\n",
      "Training Accuracy Score =  0.7615062761506276\n",
      "Testing Accuracy Score =  0.85\n",
      "\n",
      "Confusion Metrix\n",
      " [[44  1]\n",
      " [ 8  7]]\n",
      "\n",
      "-----------------Classification Report----------------- \n",
      "\n",
      "               precision    recall  f1-score   support\n",
      "\n",
      "           0       0.85      0.98      0.91        45\n",
      "           1       0.88      0.47      0.61        15\n",
      "\n",
      "    accuracy                           0.85        60\n",
      "   macro avg       0.86      0.72      0.76        60\n",
      "weighted avg       0.85      0.85      0.83        60\n",
      " \n",
      "\n",
      "\n",
      "\n",
      " ****************DecisionTreeClassifier()*************** \n",
      "\n",
      "Training Accuracy Score =  1.0\n",
      "Testing Accuracy Score =  0.8166666666666667\n",
      "\n",
      "Confusion Metrix\n",
      " [[41  4]\n",
      " [ 7  8]]\n",
      "\n",
      "-----------------Classification Report----------------- \n",
      "\n",
      "               precision    recall  f1-score   support\n",
      "\n",
      "           0       0.85      0.91      0.88        45\n",
      "           1       0.67      0.53      0.59        15\n",
      "\n",
      "    accuracy                           0.82        60\n",
      "   macro avg       0.76      0.72      0.74        60\n",
      "weighted avg       0.81      0.82      0.81        60\n",
      " \n",
      "\n",
      "\n",
      "\n",
      " ****************RandomForestClassifier()*************** \n",
      "\n",
      "Training Accuracy Score =  1.0\n",
      "Testing Accuracy Score =  0.9\n",
      "\n",
      "Confusion Metrix\n",
      " [[42  3]\n",
      " [ 3 12]]\n",
      "\n",
      "-----------------Classification Report----------------- \n",
      "\n",
      "               precision    recall  f1-score   support\n",
      "\n",
      "           0       0.93      0.93      0.93        45\n",
      "           1       0.80      0.80      0.80        15\n",
      "\n",
      "    accuracy                           0.90        60\n",
      "   macro avg       0.87      0.87      0.87        60\n",
      "weighted avg       0.90      0.90      0.90        60\n",
      " \n",
      "\n",
      "\n",
      "\n",
      " *************************SVC()************************* \n",
      "\n",
      "Training Accuracy Score =  0.6694560669456067\n",
      "Testing Accuracy Score =  0.75\n",
      "\n",
      "Confusion Metrix\n",
      " [[45  0]\n",
      " [15  0]]\n",
      "\n",
      "-----------------Classification Report----------------- \n",
      "\n",
      "               precision    recall  f1-score   support\n",
      "\n",
      "           0       0.75      1.00      0.86        45\n",
      "           1       0.00      0.00      0.00        15\n",
      "\n",
      "    accuracy                           0.75        60\n",
      "   macro avg       0.38      0.50      0.43        60\n",
      "weighted avg       0.56      0.75      0.64        60\n",
      " \n",
      "\n",
      "\n"
     ]
    },
    {
     "name": "stderr",
     "output_type": "stream",
     "text": [
      "/opt/conda/lib/python3.7/site-packages/sklearn/metrics/_classification.py:1245: UndefinedMetricWarning: Precision and F-score are ill-defined and being set to 0.0 in labels with no predicted samples. Use `zero_division` parameter to control this behavior.\n",
      "  _warn_prf(average, modifier, msg_start, len(result))\n",
      "/opt/conda/lib/python3.7/site-packages/sklearn/metrics/_classification.py:1245: UndefinedMetricWarning: Precision and F-score are ill-defined and being set to 0.0 in labels with no predicted samples. Use `zero_division` parameter to control this behavior.\n",
      "  _warn_prf(average, modifier, msg_start, len(result))\n",
      "/opt/conda/lib/python3.7/site-packages/sklearn/metrics/_classification.py:1245: UndefinedMetricWarning: Precision and F-score are ill-defined and being set to 0.0 in labels with no predicted samples. Use `zero_division` parameter to control this behavior.\n",
      "  _warn_prf(average, modifier, msg_start, len(result))\n"
     ]
    }
   ],
   "source": [
    "from sklearn.metrics import confusion_matrix,classification_report,accuracy_score\n",
    "\n",
    "for i in models:\n",
    "    y_pred = i.predict(Xtest)\n",
    "\n",
    "    print(\"\\n\",str(i).center(55,\"*\"),\"\\n\")\n",
    "    print(\"Training Accuracy Score = \",accuracy_score(ytrain,i.predict(Xtrain)))\n",
    "    print(\"Testing Accuracy Score = \",accuracy_score(ytest,y_pred))\n",
    "    print(\"\\nConfusion Metrix\\n\", confusion_matrix(ytest,y_pred))\n",
    "    print()\n",
    "    print(\"Classification Report\".center(55,\"-\"),\"\\n\\n\",classification_report(ytest,y_pred),\"\\n\\n\")"
   ]
  },
  {
   "cell_type": "markdown",
   "metadata": {
    "papermill": {
     "duration": 0.02892,
     "end_time": "2021-05-17T05:21:15.567347",
     "exception": false,
     "start_time": "2021-05-17T05:21:15.538427",
     "status": "completed"
    },
    "tags": []
   },
   "source": [
    "### Conclusion"
   ]
  },
  {
   "cell_type": "markdown",
   "metadata": {
    "papermill": {
     "duration": 0.028572,
     "end_time": "2021-05-17T05:21:15.624679",
     "exception": false,
     "start_time": "2021-05-17T05:21:15.596107",
     "status": "completed"
    },
    "tags": []
   },
   "source": [
    "#### As we can see the Random Forest algorithm is giving the best accuracy."
   ]
  },
  {
   "cell_type": "code",
   "execution_count": null,
   "metadata": {},
   "outputs": [],
   "source": []
  }
 ],
 "metadata": {
  "kernelspec": {
   "display_name": "Python 3",
   "language": "python",
   "name": "python3"
  },
  "language_info": {
   "codemirror_mode": {
    "name": "ipython",
    "version": 3
   },
   "file_extension": ".py",
   "mimetype": "text/x-python",
   "name": "python",
   "nbconvert_exporter": "python",
   "pygments_lexer": "ipython3",
   "version": "3.7.6"
  },
  "papermill": {
   "default_parameters": {},
   "duration": 10.043567,
   "end_time": "2021-05-17T05:21:16.264547",
   "environment_variables": {},
   "exception": null,
   "input_path": "__notebook__.ipynb",
   "output_path": "__notebook__.ipynb",
   "parameters": {},
   "start_time": "2021-05-17T05:21:06.220980",
   "version": "2.3.2"
  }
 },
 "nbformat": 4,
 "nbformat_minor": 5
}
